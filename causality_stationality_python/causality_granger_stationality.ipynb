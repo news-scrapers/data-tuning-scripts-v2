{
 "cells": [
  {
   "cell_type": "code",
   "execution_count": 2,
   "metadata": {
    "collapsed": true
   },
   "outputs": [],
   "source": [
    "import pandas as pd\n",
    "import numpy as np\n",
    "import statsmodels.api as sm\n",
    "from statsmodels.tsa.api import VAR\n",
    "import matplotlib.pyplot as plt\n",
    "path = \"/Users/hugojosebello/Documents/git-repos/data-tuning-scripts-v2/r_scripts_analysis/all.csv\""
   ]
  },
  {
   "cell_type": "code",
   "execution_count": 35,
   "outputs": [
    {
     "name": "stdout",
     "output_type": "stream",
     "text": [
      "            noticias_suicidio  media_sentimiento_noticias  \\\n",
      "month                                                       \n",
      "2005-01-01                195                   -0.011282   \n",
      "2005-02-01                151                   -0.009934   \n",
      "2005-03-01                184                   -0.009076   \n",
      "2005-04-01                131                   -0.011145   \n",
      "2005-05-01                165                   -0.011333   \n",
      "...                       ...                         ...   \n",
      "2017-08-01                143                   -0.009301   \n",
      "2017-09-01                171                   -0.016491   \n",
      "2017-10-01                189                   -0.013704   \n",
      "2017-11-01                186                   -0.021989   \n",
      "2017-12-01                151                   -0.013046   \n",
      "\n",
      "            sentiment_analysis_score         mes      descrip  suicidios  \\\n",
      "month                                                                      \n",
      "2005-01-01                 -9.533333  2005-01-01  Ambos sexos      285.0   \n",
      "2005-02-01                -12.324503  2005-02-01  Ambos sexos      255.0   \n",
      "2005-03-01                 -9.195652  2005-03-01  Ambos sexos      302.0   \n",
      "2005-04-01                 -8.732824  2005-04-01  Ambos sexos      307.0   \n",
      "2005-05-01                -10.933333  2005-05-01  Ambos sexos      304.0   \n",
      "...                              ...         ...          ...        ...   \n",
      "2017-08-01                -10.811189  2017-08-01  Ambos sexos      337.0   \n",
      "2017-09-01                -18.619883  2017-09-01  Ambos sexos      307.0   \n",
      "2017-10-01                -17.216931  2017-10-01  Ambos sexos      346.0   \n",
      "2017-11-01                -30.381720  2017-11-01  Ambos sexos      267.0   \n",
      "2017-12-01                -16.947020  2017-12-01  Ambos sexos      241.0   \n",
      "\n",
      "            Menores_de_15_anos  De_15_a_29_anos  De_30_a_39_anos  \\\n",
      "month                                                              \n",
      "2005-01-01                 0.0             32.0             47.0   \n",
      "2005-02-01                 0.0             33.0             43.0   \n",
      "2005-03-01                 1.0             47.0             50.0   \n",
      "2005-04-01                 2.0             41.0             48.0   \n",
      "2005-05-01                 2.0             35.0             58.0   \n",
      "...                        ...              ...              ...   \n",
      "2017-08-01                 1.0             24.0             40.0   \n",
      "2017-09-01                 1.0             26.0             37.0   \n",
      "2017-10-01                 1.0             27.0             45.0   \n",
      "2017-11-01                 0.0             15.0             44.0   \n",
      "2017-12-01                 1.0             24.0             31.0   \n",
      "\n",
      "            De_40_a_44_anos  ...  De_55_a_59_anos  De_60_a_64_anos  \\\n",
      "month                        ...                                     \n",
      "2005-01-01             18.0  ...             22.0             20.0   \n",
      "2005-02-01             27.0  ...             22.0             11.0   \n",
      "2005-03-01             20.0  ...             17.0             22.0   \n",
      "2005-04-01             20.0  ...             19.0             25.0   \n",
      "2005-05-01             27.0  ...             23.0             15.0   \n",
      "...                     ...  ...              ...              ...   \n",
      "2017-08-01             32.0  ...             35.0             24.0   \n",
      "2017-09-01             27.0  ...             35.0             15.0   \n",
      "2017-10-01             29.0  ...             39.0             17.0   \n",
      "2017-11-01             26.0  ...             26.0             18.0   \n",
      "2017-12-01             21.0  ...             27.0             15.0   \n",
      "\n",
      "            De_65_a_69_anos  De_70_a_74_anos  De_75_a_79_anos  \\\n",
      "month                                                           \n",
      "2005-01-01             13.0             29.0             30.0   \n",
      "2005-02-01             14.0             20.0             15.0   \n",
      "2005-03-01             18.0             29.0             24.0   \n",
      "2005-04-01             22.0             25.0             25.0   \n",
      "2005-05-01             20.0             23.0             25.0   \n",
      "...                     ...              ...              ...   \n",
      "2017-08-01             18.0             23.0             23.0   \n",
      "2017-09-01             18.0             16.0             13.0   \n",
      "2017-10-01             28.0             29.0             19.0   \n",
      "2017-11-01             19.0             21.0             11.0   \n",
      "2017-12-01             16.0             15.0             15.0   \n",
      "\n",
      "            De_80_a_84_anos  De_85_a_89_anos  De_90_a_94_anos  \\\n",
      "month                                                           \n",
      "2005-01-01             17.0             10.0              6.0   \n",
      "2005-02-01             17.0             13.0              7.0   \n",
      "2005-03-01             16.0              2.0              3.0   \n",
      "2005-04-01             16.0              9.0              8.0   \n",
      "2005-05-01             19.0             12.0              3.0   \n",
      "...                     ...              ...              ...   \n",
      "2017-08-01             20.0             24.0              7.0   \n",
      "2017-09-01             21.0             14.0              6.0   \n",
      "2017-10-01             21.0             19.0              4.0   \n",
      "2017-11-01             17.0             11.0              3.0   \n",
      "2017-12-01              8.0              9.0              5.0   \n",
      "\n",
      "            De_95_anos_y_mns  Unnamed:_18  \n",
      "month                                      \n",
      "2005-01-01               0.0          NaN  \n",
      "2005-02-01               0.0          NaN  \n",
      "2005-03-01               1.0          NaN  \n",
      "2005-04-01               1.0          NaN  \n",
      "2005-05-01               0.0          NaN  \n",
      "...                      ...          ...  \n",
      "2017-08-01               1.0          NaN  \n",
      "2017-09-01               1.0          NaN  \n",
      "2017-10-01               1.0          NaN  \n",
      "2017-11-01               1.0          NaN  \n",
      "2017-12-01               1.0          NaN  \n",
      "\n",
      "[156 rows x 22 columns]\n"
     ]
    }
   ],
   "source": [
    "df_asoc = pd.read_csv(path, sep=\";\")\n",
    "df_asoc[\"month\"]= pd.to_datetime(df_asoc[\"month\"])\n",
    "df_asoc=df_asoc.set_index(\"month\")\n",
    "print(df_asoc)\n",
    "df_asoc['sentiment_analysis_score_diff'] = df_asoc['sentiment_analysis_score'] - df_asoc['sentiment_analysis_score'].shift(1)\n",
    "df_asoc['media_sentimiento_noticias_diff'] = df_asoc['media_sentimiento_noticias'] - df_asoc['media_sentimiento_noticias'].shift(1)\n",
    "df_asoc['suicidios_diff'] = df_asoc['suicidios'] - df_asoc['suicidios'].shift(1)\n"
   ],
   "metadata": {
    "collapsed": false,
    "pycharm": {
     "name": "#%%\n"
    }
   }
  },
  {
   "cell_type": "code",
   "execution_count": 52,
   "outputs": [
    {
     "name": "stdout",
     "output_type": "stream",
     "text": [
      "\n",
      "Granger Causality\n",
      "number of lags (no zero) 1\n",
      "ssr based F test:         F=2.9212  , p=0.0895  , df_denom=152, df_num=1\n",
      "ssr based chi2 test:   chi2=2.9788  , p=0.0844  , df=1\n",
      "likelihood ratio test: chi2=2.9506  , p=0.0858  , df=1\n",
      "parameter F test:         F=2.9212  , p=0.0895  , df_denom=152, df_num=1\n",
      "\n",
      "Granger Causality\n",
      "number of lags (no zero) 2\n",
      "ssr based F test:         F=1.7990  , p=0.1690  , df_denom=149, df_num=2\n",
      "ssr based chi2 test:   chi2=3.7187  , p=0.1558  , df=2\n",
      "likelihood ratio test: chi2=3.6745  , p=0.1593  , df=2\n",
      "parameter F test:         F=1.7990  , p=0.1690  , df_denom=149, df_num=2\n",
      "\n",
      "Granger Causality\n",
      "number of lags (no zero) 3\n",
      "ssr based F test:         F=1.4688  , p=0.2255  , df_denom=146, df_num=3\n",
      "ssr based chi2 test:   chi2=4.6176  , p=0.2020  , df=3\n",
      "likelihood ratio test: chi2=4.5493  , p=0.2079  , df=3\n",
      "parameter F test:         F=1.4688  , p=0.2255  , df_denom=146, df_num=3\n",
      "\n",
      "Granger Causality\n",
      "number of lags (no zero) 4\n",
      "ssr based F test:         F=1.9854  , p=0.0999  , df_denom=143, df_num=4\n",
      "ssr based chi2 test:   chi2=8.4413  , p=0.0767  , df=4\n",
      "likelihood ratio test: chi2=8.2152  , p=0.0840  , df=4\n",
      "parameter F test:         F=1.9854  , p=0.0999  , df_denom=143, df_num=4\n",
      "\n",
      "Granger Causality\n",
      "number of lags (no zero) 5\n",
      "ssr based F test:         F=3.0774  , p=0.0115  , df_denom=140, df_num=5\n",
      "ssr based chi2 test:   chi2=16.5961 , p=0.0053  , df=5\n",
      "likelihood ratio test: chi2=15.7459 , p=0.0076  , df=5\n",
      "parameter F test:         F=3.0774  , p=0.0115  , df_denom=140, df_num=5\n",
      "\n",
      "Granger Causality\n",
      "number of lags (no zero) 6\n",
      "ssr based F test:         F=2.6520  , p=0.0183  , df_denom=137, df_num=6\n",
      "ssr based chi2 test:   chi2=17.4219 , p=0.0079  , df=6\n",
      "likelihood ratio test: chi2=16.4823 , p=0.0114  , df=6\n",
      "parameter F test:         F=2.6520  , p=0.0183  , df_denom=137, df_num=6\n",
      "\n",
      "Granger Causality\n",
      "number of lags (no zero) 7\n",
      "ssr based F test:         F=2.8357  , p=0.0087  , df_denom=134, df_num=7\n",
      "ssr based chi2 test:   chi2=22.0723 , p=0.0025  , df=7\n",
      "likelihood ratio test: chi2=20.5828 , p=0.0044  , df=7\n",
      "parameter F test:         F=2.8357  , p=0.0087  , df_denom=134, df_num=7\n",
      "\n",
      "Granger Causality\n",
      "number of lags (no zero) 8\n",
      "ssr based F test:         F=2.2467  , p=0.0279  , df_denom=131, df_num=8\n",
      "ssr based chi2 test:   chi2=20.3060 , p=0.0092  , df=8\n",
      "likelihood ratio test: chi2=19.0286 , p=0.0147  , df=8\n",
      "parameter F test:         F=2.2467  , p=0.0279  , df_denom=131, df_num=8\n"
     ]
    }
   ],
   "source": [
    "granger_test = sm.tsa.stattools.grangercausalitytests(df_asoc[['sentiment_analysis_score','suicidios']], maxlag=8, verbose=True)"
   ],
   "metadata": {
    "collapsed": false,
    "pycharm": {
     "name": "#%%\n"
    }
   }
  },
  {
   "cell_type": "code",
   "execution_count": 53,
   "outputs": [
    {
     "name": "stdout",
     "output_type": "stream",
     "text": [
      "\n",
      "Granger Causality\n",
      "number of lags (no zero) 1\n",
      "ssr based F test:         F=3.0673  , p=0.0819  , df_denom=151, df_num=1\n",
      "ssr based chi2 test:   chi2=3.1282  , p=0.0769  , df=1\n",
      "likelihood ratio test: chi2=3.0969  , p=0.0784  , df=1\n",
      "parameter F test:         F=3.0673  , p=0.0819  , df_denom=151, df_num=1\n",
      "\n",
      "Granger Causality\n",
      "number of lags (no zero) 2\n",
      "ssr based F test:         F=1.8677  , p=0.1581  , df_denom=148, df_num=2\n",
      "ssr based chi2 test:   chi2=3.8615  , p=0.1450  , df=2\n",
      "likelihood ratio test: chi2=3.8136  , p=0.1486  , df=2\n",
      "parameter F test:         F=1.8677  , p=0.1581  , df_denom=148, df_num=2\n",
      "\n",
      "Granger Causality\n",
      "number of lags (no zero) 3\n",
      "ssr based F test:         F=1.5234  , p=0.2109  , df_denom=145, df_num=3\n",
      "ssr based chi2 test:   chi2=4.7909  , p=0.1878  , df=3\n",
      "likelihood ratio test: chi2=4.7169  , p=0.1937  , df=3\n",
      "parameter F test:         F=1.5234  , p=0.2109  , df_denom=145, df_num=3\n",
      "\n",
      "Granger Causality\n",
      "number of lags (no zero) 4\n",
      "ssr based F test:         F=1.8012  , p=0.1319  , df_denom=142, df_num=4\n",
      "ssr based chi2 test:   chi2=7.6614  , p=0.1048  , df=4\n",
      "likelihood ratio test: chi2=7.4734  , p=0.1129  , df=4\n",
      "parameter F test:         F=1.8012  , p=0.1319  , df_denom=142, df_num=4\n",
      "\n",
      "Granger Causality\n",
      "number of lags (no zero) 5\n",
      "ssr based F test:         F=2.1654  , p=0.0614  , df_denom=139, df_num=5\n",
      "ssr based chi2 test:   chi2=11.6836 , p=0.0394  , df=5\n",
      "likelihood ratio test: chi2=11.2509 , p=0.0466  , df=5\n",
      "parameter F test:         F=2.1654  , p=0.0614  , df_denom=139, df_num=5\n",
      "\n",
      "Granger Causality\n",
      "number of lags (no zero) 6\n",
      "ssr based F test:         F=1.7877  , p=0.1060  , df_denom=136, df_num=6\n",
      "ssr based chi2 test:   chi2=11.7514 , p=0.0678  , df=6\n",
      "likelihood ratio test: chi2=11.3110 , p=0.0792  , df=6\n",
      "parameter F test:         F=1.7877  , p=0.1060  , df_denom=136, df_num=6\n",
      "\n",
      "Granger Causality\n",
      "number of lags (no zero) 7\n",
      "ssr based F test:         F=1.5124  , p=0.1683  , df_denom=133, df_num=7\n",
      "ssr based chi2 test:   chi2=11.7810 , p=0.1080  , df=7\n",
      "likelihood ratio test: chi2=11.3356 , p=0.1246  , df=7\n",
      "parameter F test:         F=1.5124  , p=0.1683  , df_denom=133, df_num=7\n",
      "\n",
      "Granger Causality\n",
      "number of lags (no zero) 8\n",
      "ssr based F test:         F=1.2408  , p=0.2805  , df_denom=130, df_num=8\n",
      "ssr based chi2 test:   chi2=11.2246 , p=0.1893  , df=8\n",
      "likelihood ratio test: chi2=10.8167 , p=0.2123  , df=8\n",
      "parameter F test:         F=1.2408  , p=0.2805  , df_denom=130, df_num=8\n"
     ]
    }
   ],
   "source": [
    "granger_test = sm.tsa.stattools.grangercausalitytests(df_asoc[['sentiment_analysis_score_diff','suicidios_diff']].dropna(), maxlag=8, verbose=True)"
   ],
   "metadata": {
    "collapsed": false,
    "pycharm": {
     "name": "#%%\n"
    }
   }
  },
  {
   "cell_type": "code",
   "execution_count": 54,
   "outputs": [
    {
     "name": "stdout",
     "output_type": "stream",
     "text": [
      "\n",
      "Granger Causality\n",
      "number of lags (no zero) 1\n",
      "ssr based F test:         F=2.4400  , p=0.1204  , df_denom=151, df_num=1\n",
      "ssr based chi2 test:   chi2=2.4884  , p=0.1147  , df=1\n",
      "likelihood ratio test: chi2=2.4686  , p=0.1161  , df=1\n",
      "parameter F test:         F=2.4400  , p=0.1204  , df_denom=151, df_num=1\n",
      "\n",
      "Granger Causality\n",
      "number of lags (no zero) 2\n",
      "ssr based F test:         F=2.2588  , p=0.1081  , df_denom=148, df_num=2\n",
      "ssr based chi2 test:   chi2=4.6702  , p=0.0968  , df=2\n",
      "likelihood ratio test: chi2=4.6003  , p=0.1002  , df=2\n",
      "parameter F test:         F=2.2588  , p=0.1081  , df_denom=148, df_num=2\n",
      "\n",
      "Granger Causality\n",
      "number of lags (no zero) 3\n",
      "ssr based F test:         F=2.1061  , p=0.1020  , df_denom=145, df_num=3\n",
      "ssr based chi2 test:   chi2=6.6235  , p=0.0849  , df=3\n",
      "likelihood ratio test: chi2=6.4832  , p=0.0903  , df=3\n",
      "parameter F test:         F=2.1061  , p=0.1020  , df_denom=145, df_num=3\n",
      "\n",
      "Granger Causality\n",
      "number of lags (no zero) 4\n",
      "ssr based F test:         F=2.4906  , p=0.0459  , df_denom=142, df_num=4\n",
      "ssr based chi2 test:   chi2=10.5938 , p=0.0315  , df=4\n",
      "likelihood ratio test: chi2=10.2387 , p=0.0366  , df=4\n",
      "parameter F test:         F=2.4906  , p=0.0459  , df_denom=142, df_num=4\n",
      "\n",
      "Granger Causality\n",
      "number of lags (no zero) 5\n",
      "ssr based F test:         F=2.1407  , p=0.0641  , df_denom=139, df_num=5\n",
      "ssr based chi2 test:   chi2=11.5503 , p=0.0415  , df=5\n",
      "likelihood ratio test: chi2=11.1272 , p=0.0489  , df=5\n",
      "parameter F test:         F=2.1407  , p=0.0641  , df_denom=139, df_num=5\n",
      "\n",
      "Granger Causality\n",
      "number of lags (no zero) 6\n",
      "ssr based F test:         F=1.7024  , p=0.1250  , df_denom=136, df_num=6\n",
      "ssr based chi2 test:   chi2=11.1908 , p=0.0827  , df=6\n",
      "likelihood ratio test: chi2=10.7905 , p=0.0951  , df=6\n",
      "parameter F test:         F=1.7024  , p=0.1250  , df_denom=136, df_num=6\n",
      "\n",
      "Granger Causality\n",
      "number of lags (no zero) 7\n",
      "ssr based F test:         F=1.3524  , p=0.2308  , df_denom=133, df_num=7\n",
      "ssr based chi2 test:   chi2=10.5343 , p=0.1603  , df=7\n",
      "likelihood ratio test: chi2=10.1762 , p=0.1788  , df=7\n",
      "parameter F test:         F=1.3524  , p=0.2308  , df_denom=133, df_num=7\n",
      "\n",
      "Granger Causality\n",
      "number of lags (no zero) 8\n",
      "ssr based F test:         F=1.2096  , p=0.2983  , df_denom=130, df_num=8\n",
      "ssr based chi2 test:   chi2=10.9424 , p=0.2050  , df=8\n",
      "likelihood ratio test: chi2=10.5542 , p=0.2283  , df=8\n",
      "parameter F test:         F=1.2096  , p=0.2983  , df_denom=130, df_num=8\n",
      "{1: ({'ssr_ftest': (2.4399662777633186, 0.12037215243753689, 151.0, 1), 'ssr_chi2test': (2.4884424289771596, 0.11468517305634864, 1), 'lrtest': (2.4685513999972954, 0.1161449229972294, 1), 'params_ftest': (2.4399662777632822, 0.12037215243754014, 151.0, 1.0)}, [<statsmodels.regression.linear_model.RegressionResultsWrapper object at 0x13e38f850>, <statsmodels.regression.linear_model.RegressionResultsWrapper object at 0x13e38f590>, array([[0., 1., 0.]])]), 2: ({'ssr_ftest': (2.2587799004677738, 0.10806826373907549, 148.0, 2), 'ssr_chi2test': (4.670180064480666, 0.09680176685418225, 2), 'lrtest': (4.600321669196546, 0.100242719928617, 2), 'params_ftest': (2.2587799004736873, 0.10806826373845621, 148.0, 2.0)}, [<statsmodels.regression.linear_model.RegressionResultsWrapper object at 0x13adedc10>, <statsmodels.regression.linear_model.RegressionResultsWrapper object at 0x13e4a7890>, array([[0., 0., 1., 0., 0.],\n",
      "       [0., 0., 0., 1., 0.]])]), 3: ({'ssr_ftest': (2.106143049525095, 0.10201456291448398, 145.0, 3), 'ssr_chi2test': (6.6234567626444365, 0.08491878239196014, 3), 'lrtest': (6.483206797638331, 0.09032714427413095, 3), 'params_ftest': (2.106143049516535, 0.10201456291558644, 145.0, 3.0)}, [<statsmodels.regression.linear_model.RegressionResultsWrapper object at 0x13e4a7b50>, <statsmodels.regression.linear_model.RegressionResultsWrapper object at 0x13e4a7950>, array([[0., 0., 0., 1., 0., 0., 0.],\n",
      "       [0., 0., 0., 0., 1., 0., 0.],\n",
      "       [0., 0., 0., 0., 0., 1., 0.]])]), 4: ({'ssr_ftest': (2.490594096139833, 0.045879139331567044, 142.0, 4), 'ssr_chi2test': (10.59379460611591, 0.031529228245624194, 4), 'lrtest': (10.238692231843288, 0.03659327242814392, 4), 'params_ftest': (2.490594096147251, 0.04587913933103583, 142.0, 4.0)}, [<statsmodels.regression.linear_model.RegressionResultsWrapper object at 0x13e499f90>, <statsmodels.regression.linear_model.RegressionResultsWrapper object at 0x13e499750>, array([[0., 0., 0., 0., 1., 0., 0., 0., 0.],\n",
      "       [0., 0., 0., 0., 0., 1., 0., 0., 0.],\n",
      "       [0., 0., 0., 0., 0., 0., 1., 0., 0.],\n",
      "       [0., 0., 0., 0., 0., 0., 0., 1., 0.]])]), 5: ({'ssr_ftest': (2.1406566894045596, 0.06414041522302305, 139.0, 5), 'ssr_chi2test': (11.550305878082156, 0.041497157301060655, 5), 'lrtest': (11.127193735229866, 0.04891561979308454, 5), 'params_ftest': (2.1406566894226704, 0.06414041522094747, 139.0, 5.0)}, [<statsmodels.regression.linear_model.RegressionResultsWrapper object at 0x13e499e50>, <statsmodels.regression.linear_model.RegressionResultsWrapper object at 0x13e499cd0>, array([[0., 0., 0., 0., 0., 1., 0., 0., 0., 0., 0.],\n",
      "       [0., 0., 0., 0., 0., 0., 1., 0., 0., 0., 0.],\n",
      "       [0., 0., 0., 0., 0., 0., 0., 1., 0., 0., 0.],\n",
      "       [0., 0., 0., 0., 0., 0., 0., 0., 1., 0., 0.],\n",
      "       [0., 0., 0., 0., 0., 0., 0., 0., 0., 1., 0.]])]), 6: ({'ssr_ftest': (1.7024002873376858, 0.12497788881443248, 136.0, 6), 'ssr_chi2test': (11.190778359410965, 0.08265614705764966, 6), 'lrtest': (10.790455396129573, 0.09507260515004673, 6), 'params_ftest': (1.7024002873416642, 0.12497788881348186, 136.0, 6.0)}, [<statsmodels.regression.linear_model.RegressionResultsWrapper object at 0x13e142c90>, <statsmodels.regression.linear_model.RegressionResultsWrapper object at 0x13e1426d0>, array([[0., 0., 0., 0., 0., 0., 1., 0., 0., 0., 0., 0., 0.],\n",
      "       [0., 0., 0., 0., 0., 0., 0., 1., 0., 0., 0., 0., 0.],\n",
      "       [0., 0., 0., 0., 0., 0., 0., 0., 1., 0., 0., 0., 0.],\n",
      "       [0., 0., 0., 0., 0., 0., 0., 0., 0., 1., 0., 0., 0.],\n",
      "       [0., 0., 0., 0., 0., 0., 0., 0., 0., 0., 1., 0., 0.],\n",
      "       [0., 0., 0., 0., 0., 0., 0., 0., 0., 0., 0., 1., 0.]])]), 7: ({'ssr_ftest': (1.3523708373115646, 0.23083580150021624, 133.0, 7), 'ssr_chi2test': (10.534257048532186, 0.16026410817006265, 7), 'lrtest': (10.176247491734102, 0.17880376244248034, 7), 'params_ftest': (1.35237083731039, 0.23083580150073996, 133.0, 7.0)}, [<statsmodels.regression.linear_model.RegressionResultsWrapper object at 0x13e5455d0>, <statsmodels.regression.linear_model.RegressionResultsWrapper object at 0x13b394890>, array([[0., 0., 0., 0., 0., 0., 0., 1., 0., 0., 0., 0., 0., 0., 0.],\n",
      "       [0., 0., 0., 0., 0., 0., 0., 0., 1., 0., 0., 0., 0., 0., 0.],\n",
      "       [0., 0., 0., 0., 0., 0., 0., 0., 0., 1., 0., 0., 0., 0., 0.],\n",
      "       [0., 0., 0., 0., 0., 0., 0., 0., 0., 0., 1., 0., 0., 0., 0.],\n",
      "       [0., 0., 0., 0., 0., 0., 0., 0., 0., 0., 0., 1., 0., 0., 0.],\n",
      "       [0., 0., 0., 0., 0., 0., 0., 0., 0., 0., 0., 0., 1., 0., 0.],\n",
      "       [0., 0., 0., 0., 0., 0., 0., 0., 0., 0., 0., 0., 0., 1., 0.]])]), 8: ({'ssr_ftest': (1.209614819870106, 0.29831260933225384, 130.0, 8), 'ssr_chi2test': (10.942361755132652, 0.20498650044471198, 8), 'lrtest': (10.554244359185759, 0.2282571974978457, 8), 'params_ftest': (1.2096148198757755, 0.29831260932894793, 130.0, 8.0)}, [<statsmodels.regression.linear_model.RegressionResultsWrapper object at 0x13e2e4910>, <statsmodels.regression.linear_model.RegressionResultsWrapper object at 0x13e2e4210>, array([[0., 0., 0., 0., 0., 0., 0., 0., 1., 0., 0., 0., 0., 0., 0., 0.,\n",
      "        0.],\n",
      "       [0., 0., 0., 0., 0., 0., 0., 0., 0., 1., 0., 0., 0., 0., 0., 0.,\n",
      "        0.],\n",
      "       [0., 0., 0., 0., 0., 0., 0., 0., 0., 0., 1., 0., 0., 0., 0., 0.,\n",
      "        0.],\n",
      "       [0., 0., 0., 0., 0., 0., 0., 0., 0., 0., 0., 1., 0., 0., 0., 0.,\n",
      "        0.],\n",
      "       [0., 0., 0., 0., 0., 0., 0., 0., 0., 0., 0., 0., 1., 0., 0., 0.,\n",
      "        0.],\n",
      "       [0., 0., 0., 0., 0., 0., 0., 0., 0., 0., 0., 0., 0., 1., 0., 0.,\n",
      "        0.],\n",
      "       [0., 0., 0., 0., 0., 0., 0., 0., 0., 0., 0., 0., 0., 0., 1., 0.,\n",
      "        0.],\n",
      "       [0., 0., 0., 0., 0., 0., 0., 0., 0., 0., 0., 0., 0., 0., 0., 1.,\n",
      "        0.]])])}\n"
     ]
    }
   ],
   "source": [
    "granger_test = sm.tsa.stattools.grangercausalitytests(df_asoc[['media_sentimiento_noticias_diff','suicidios_diff']].dropna(), maxlag=8, verbose=True)\n",
    "print(granger_test)"
   ],
   "metadata": {
    "collapsed": false,
    "pycharm": {
     "name": "#%%\n"
    }
   }
  },
  {
   "cell_type": "code",
   "execution_count": 23,
   "outputs": [
    {
     "name": "stdout",
     "output_type": "stream",
     "text": [
      "Test Statistic         -1.096434e+01\n",
      "p-value                 8.175188e-20\n",
      "# Lags                  0.000000e+00\n",
      "# Observations          1.550000e+02\n",
      "Critical Value (1%)    -3.473259e+00\n",
      "Critical Value (5%)    -2.880374e+00\n",
      "Critical Value (10%)   -2.576812e+00\n",
      "dtype: float64\n",
      " Series is Stationary\n",
      "Test Statistic           -1.096774\n",
      "p-value                   0.716357\n",
      "# Lags                   11.000000\n",
      "# Observations          144.000000\n",
      "Critical Value (1%)      -3.476598\n",
      "Critical Value (5%)      -2.881829\n",
      "Critical Value (10%)     -2.577589\n",
      "dtype: float64\n",
      " Series is Non-Stationary\n"
     ]
    }
   ],
   "source": [
    "from statsmodels.tsa.stattools import adfuller\n",
    "\n",
    "def adf_test(ts, signif=0.05):\n",
    "    dftest = adfuller(ts, autolag='AIC')\n",
    "    adf = pd.Series(dftest[0:4], index=['Test Statistic','p-value','# Lags','# Observations'])\n",
    "    for key,value in dftest[4].items():\n",
    "       adf['Critical Value (%s)'%key] = value\n",
    "    print (adf)\n",
    "\n",
    "    p = adf['p-value']\n",
    "    if p <= signif:\n",
    "        print(f\" Series is Stationary\")\n",
    "    else:\n",
    "        print(f\" Series is Non-Stationary\")\n",
    "\n",
    "#apply adf test on the series\n",
    "adf_test(df_asoc[\"media_sentimiento_noticias\"])\n",
    "adf_test(df_asoc[\"suicidios\"])\n"
   ],
   "metadata": {
    "collapsed": false,
    "pycharm": {
     "name": "#%%\n"
    }
   }
  },
  {
   "cell_type": "code",
   "execution_count": 50,
   "outputs": [
    {
     "name": "stdout",
     "output_type": "stream",
     "text": [
      "_------\n",
      "Results of KPSS Test:\n",
      "Test Statistic            0.049682\n",
      "p-value                   0.100000\n",
      "Lags Used                14.000000\n",
      "Critical Value (10%)      0.347000\n",
      "Critical Value (5%)       0.463000\n",
      "Critical Value (2.5%)     0.574000\n",
      "Critical Value (1%)       0.739000\n",
      "dtype: float64\n",
      "Results of KPSS Test:\n",
      "Test Statistic            0.097583\n",
      "p-value                   0.100000\n",
      "Lags Used                14.000000\n",
      "Critical Value (10%)      0.347000\n",
      "Critical Value (5%)       0.463000\n",
      "Critical Value (2.5%)     0.574000\n",
      "Critical Value (1%)       0.739000\n",
      "dtype: float64\n",
      "_------\n",
      "Test Statistic         -7.548302e+00\n",
      "p-value                 3.239105e-11\n",
      "# Lags                  9.000000e+00\n",
      "# Observations          1.450000e+02\n",
      "Critical Value (1%)    -3.476273e+00\n",
      "Critical Value (5%)    -2.881688e+00\n",
      "Critical Value (10%)   -2.577513e+00\n",
      "dtype: float64\n",
      " Series is Stationary\n",
      "Test Statistic         -8.577303e+00\n",
      "p-value                 7.899385e-14\n",
      "# Lags                  1.000000e+01\n",
      "# Observations          1.440000e+02\n",
      "Critical Value (1%)    -3.476598e+00\n",
      "Critical Value (5%)    -2.881829e+00\n",
      "Critical Value (10%)   -2.577589e+00\n",
      "dtype: float64\n",
      " Series is Stationary\n"
     ]
    },
    {
     "name": "stderr",
     "output_type": "stream",
     "text": [
      "/Users/hugojosebello/.local/share/virtualenvs/data-tuning-scripts-v2-RwdOpR44/lib/python3.7/site-packages/statsmodels/tsa/stattools.py:1661: FutureWarning: The behavior of using lags=None will change in the next release. Currently lags=None is the same as lags='legacy', and so a sample-size lag length is used. After the next release, the default will change to be the same as lags='auto' which uses an automatic lag length selection method. To silence this warning, either use 'auto' or 'legacy'\n",
      "  warn(msg, FutureWarning)\n",
      "/Users/hugojosebello/.local/share/virtualenvs/data-tuning-scripts-v2-RwdOpR44/lib/python3.7/site-packages/statsmodels/tsa/stattools.py:1687: InterpolationWarning: p-value is greater than the indicated p-value\n",
      "  warn(\"p-value is greater than the indicated p-value\", InterpolationWarning)\n",
      "/Users/hugojosebello/.local/share/virtualenvs/data-tuning-scripts-v2-RwdOpR44/lib/python3.7/site-packages/statsmodels/tsa/stattools.py:1687: InterpolationWarning: p-value is greater than the indicated p-value\n",
      "  warn(\"p-value is greater than the indicated p-value\", InterpolationWarning)\n"
     ]
    }
   ],
   "source": [
    "kpss_output = {}\n",
    "#define function for kpss test\n",
    "from statsmodels.tsa.stattools import kpss\n",
    "#define KPSS\n",
    "def kpss_test(timeseries):\n",
    "    print ('Results of KPSS Test:')\n",
    "    kpsstest = kpss(timeseries, regression='c')\n",
    "    kpss_output = pd.Series(kpsstest[0:3], index=['Test Statistic','p-value','Lags Used'])\n",
    "    for key,value in kpsstest[3].items():\n",
    "        kpss_output['Critical Value (%s)'%key] = value\n",
    "    print (kpss_output)\n",
    "\n",
    "df_asoc.dropna()\n",
    "print(\"_------\")\n",
    "kpss_test(df_asoc[\"media_sentimiento_noticias_diff\"].dropna())\n",
    "kpss_test(df_asoc[\"suicidios_diff\"].dropna())\n",
    "print(\"_------\")\n",
    "\n",
    "adf_test(df_asoc[\"media_sentimiento_noticias_diff\"].dropna())\n",
    "adf_test(df_asoc[\"suicidios_diff\"].dropna())\n",
    "\n",
    "\n",
    "#https://www.analyticsvidhya.com/blog/2018/09/non-stationary-time-series-python/\n",
    "\n",
    "#"
   ],
   "metadata": {
    "collapsed": false,
    "pycharm": {
     "name": "#%%\n"
    }
   }
  },
  {
   "cell_type": "code",
   "execution_count": 48,
   "outputs": [
    {
     "name": "stderr",
     "output_type": "stream",
     "text": [
      "/Users/hugojosebello/.local/share/virtualenvs/data-tuning-scripts-v2-RwdOpR44/lib/python3.7/site-packages/ipykernel_launcher.py:8: FutureWarning: the 'freq'' keyword is deprecated, use 'period' instead\n",
      "  \n"
     ]
    },
    {
     "data": {
      "text/plain": "<Figure size 432x288 with 1 Axes>",
      "image/png": "[encoded data removed]"
     },
     "metadata": {
      "needs_background": "light"
     },
     "output_type": "display_data"
    }
   ],
   "source": [
    "from fbprophet import Prophet\n",
    "import pandas as pd\n",
    "import altair as alt\n",
    "from IPython.display import HTML\n",
    "from matplotlib import pyplot\n",
    "from statsmodels.tsa.seasonal import seasonal_decompose\n",
    "\n",
    "result = seasonal_decompose(-df_asoc[[\"media_sentimiento_noticias\"]], model='additive', freq=12)\n",
    "plt.plot(result.trend)\n",
    "plt.savefig('media_sentimiento_noticias_trend.png',dpi=500, transparent=False)"
   ],
   "metadata": {
    "collapsed": false,
    "pycharm": {
     "name": "#%%\n"
    }
   }
  },
  {
   "cell_type": "code",
   "execution_count": 49,
   "outputs": [
    {
     "name": "stderr",
     "output_type": "stream",
     "text": [
      "/Users/hugojosebello/.local/share/virtualenvs/data-tuning-scripts-v2-RwdOpR44/lib/python3.7/site-packages/ipykernel_launcher.py:1: FutureWarning: the 'freq'' keyword is deprecated, use 'period' instead\n",
      "  \"\"\"Entry point for launching an IPython kernel.\n"
     ]
    },
    {
     "data": {
      "text/plain": "<Figure size 432x288 with 1 Axes>",
      "image/png": "[encoded data removed]"
     },
     "metadata": {
      "needs_background": "light"
     },
     "output_type": "display_data"
    }
   ],
   "source": [
    "result = seasonal_decompose(df_asoc[[\"suicidios\"]], model='additive', freq=12)\n",
    "plt.plot(result.trend)\n",
    "plt.savefig('suicidios_trend.png',dpi=500, transparent=False)\n",
    "\n"
   ],
   "metadata": {
    "collapsed": false,
    "pycharm": {
     "name": "#%%\n"
    }
   }
  }
 ],
 "metadata": {
  "kernelspec": {
   "display_name": "Python 3",
   "language": "python",
   "name": "python3"
  },
  "language_info": {
   "codemirror_mode": {
    "name": "ipython",
    "version": 2
   },
   "file_extension": ".py",
   "mimetype": "text/x-python",
   "name": "python",
   "nbconvert_exporter": "python",
   "pygments_lexer": "ipython2",
   "version": "2.7.6"
  }
 },
 "nbformat": 4,
 "nbformat_minor": 0
}