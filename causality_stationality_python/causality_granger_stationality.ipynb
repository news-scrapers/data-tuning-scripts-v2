{
 "cells": [
  {
   "cell_type": "code",
   "execution_count": 1,
   "metadata": {
    "collapsed": true
   },
   "outputs": [],
   "source": [
    "import pandas as pd\n",
    "import numpy as np\n",
    "import statsmodels.api as sm\n",
    "from statsmodels.tsa.api import VAR\n",
    "import matplotlib.pyplot as plt\n",
    "path = \"/Users/hugojosebello/Documents/git-repos/data-tuning-scripts-v2/r_scripts_analysis/all.csv\""
   ]
  },
  {
   "cell_type": "code",
   "execution_count": 6,
   "outputs": [
    {
     "data": {
      "text/plain": "            noticias_suicidio  media_sentimiento_noticias  \\\nmonth                                                       \n2005-01-01                195                   -0.011282   \n2005-02-01                151                   -0.009934   \n2005-03-01                184                   -0.009076   \n2005-04-01                131                   -0.011145   \n2005-05-01                165                   -0.011333   \n...                       ...                         ...   \n2017-08-01                143                   -0.009301   \n2017-09-01                171                   -0.016491   \n2017-10-01                189                   -0.013704   \n2017-11-01                186                   -0.021989   \n2017-12-01                151                   -0.013046   \n\n            sentiment_analysis_score         mes      descrip  suicidios  \\\nmonth                                                                      \n2005-01-01                 -9.533333  2005-01-01  Ambos sexos      285.0   \n2005-02-01                -12.324503  2005-02-01  Ambos sexos      255.0   \n2005-03-01                 -9.195652  2005-03-01  Ambos sexos      302.0   \n2005-04-01                 -8.732824  2005-04-01  Ambos sexos      307.0   \n2005-05-01                -10.933333  2005-05-01  Ambos sexos      304.0   \n...                              ...         ...          ...        ...   \n2017-08-01                -10.811189  2017-08-01  Ambos sexos      337.0   \n2017-09-01                -18.619883  2017-09-01  Ambos sexos      307.0   \n2017-10-01                -17.216931  2017-10-01  Ambos sexos      346.0   \n2017-11-01                -30.381720  2017-11-01  Ambos sexos      267.0   \n2017-12-01                -16.947020  2017-12-01  Ambos sexos      241.0   \n\n            Menores_de_15_anos  De_15_a_29_anos  De_30_a_39_anos  \\\nmonth                                                              \n2005-01-01                 0.0             32.0             47.0   \n2005-02-01                 0.0             33.0             43.0   \n2005-03-01                 1.0             47.0             50.0   \n2005-04-01                 2.0             41.0             48.0   \n2005-05-01                 2.0             35.0             58.0   \n...                        ...              ...              ...   \n2017-08-01                 1.0             24.0             40.0   \n2017-09-01                 1.0             26.0             37.0   \n2017-10-01                 1.0             27.0             45.0   \n2017-11-01                 0.0             15.0             44.0   \n2017-12-01                 1.0             24.0             31.0   \n\n            De_40_a_44_anos  ...  De_55_a_59_anos  De_60_a_64_anos  \\\nmonth                        ...                                     \n2005-01-01             18.0  ...             22.0             20.0   \n2005-02-01             27.0  ...             22.0             11.0   \n2005-03-01             20.0  ...             17.0             22.0   \n2005-04-01             20.0  ...             19.0             25.0   \n2005-05-01             27.0  ...             23.0             15.0   \n...                     ...  ...              ...              ...   \n2017-08-01             32.0  ...             35.0             24.0   \n2017-09-01             27.0  ...             35.0             15.0   \n2017-10-01             29.0  ...             39.0             17.0   \n2017-11-01             26.0  ...             26.0             18.0   \n2017-12-01             21.0  ...             27.0             15.0   \n\n            De_65_a_69_anos  De_70_a_74_anos  De_75_a_79_anos  \\\nmonth                                                           \n2005-01-01             13.0             29.0             30.0   \n2005-02-01             14.0             20.0             15.0   \n2005-03-01             18.0             29.0             24.0   \n2005-04-01             22.0             25.0             25.0   \n2005-05-01             20.0             23.0             25.0   \n...                     ...              ...              ...   \n2017-08-01             18.0             23.0             23.0   \n2017-09-01             18.0             16.0             13.0   \n2017-10-01             28.0             29.0             19.0   \n2017-11-01             19.0             21.0             11.0   \n2017-12-01             16.0             15.0             15.0   \n\n            De_80_a_84_anos  De_85_a_89_anos  De_90_a_94_anos  \\\nmonth                                                           \n2005-01-01             17.0             10.0              6.0   \n2005-02-01             17.0             13.0              7.0   \n2005-03-01             16.0              2.0              3.0   \n2005-04-01             16.0              9.0              8.0   \n2005-05-01             19.0             12.0              3.0   \n...                     ...              ...              ...   \n2017-08-01             20.0             24.0              7.0   \n2017-09-01             21.0             14.0              6.0   \n2017-10-01             21.0             19.0              4.0   \n2017-11-01             17.0             11.0              3.0   \n2017-12-01              8.0              9.0              5.0   \n\n            De_95_anos_y_mns  Unnamed:_18  \nmonth                                      \n2005-01-01               0.0          NaN  \n2005-02-01               0.0          NaN  \n2005-03-01               1.0          NaN  \n2005-04-01               1.0          NaN  \n2005-05-01               0.0          NaN  \n...                      ...          ...  \n2017-08-01               1.0          NaN  \n2017-09-01               1.0          NaN  \n2017-10-01               1.0          NaN  \n2017-11-01               1.0          NaN  \n2017-12-01               1.0          NaN  \n\n[156 rows x 22 columns]",
      "text/html": "<div>\n<style scoped>\n    .dataframe tbody tr th:only-of-type {\n        vertical-align: middle;\n    }\n\n    .dataframe tbody tr th {\n        vertical-align: top;\n    }\n\n    .dataframe thead th {\n        text-align: right;\n    }\n</style>\n<table border=\"1\" class=\"dataframe\">\n  <thead>\n    <tr style=\"text-align: right;\">\n      <th></th>\n      <th>noticias_suicidio</th>\n      <th>media_sentimiento_noticias</th>\n      <th>sentiment_analysis_score</th>\n      <th>mes</th>\n      <th>descrip</th>\n      <th>suicidios</th>\n      <th>Menores_de_15_anos</th>\n      <th>De_15_a_29_anos</th>\n      <th>De_30_a_39_anos</th>\n      <th>De_40_a_44_anos</th>\n      <th>...</th>\n      <th>De_55_a_59_anos</th>\n      <th>De_60_a_64_anos</th>\n      <th>De_65_a_69_anos</th>\n      <th>De_70_a_74_anos</th>\n      <th>De_75_a_79_anos</th>\n      <th>De_80_a_84_anos</th>\n      <th>De_85_a_89_anos</th>\n      <th>De_90_a_94_anos</th>\n      <th>De_95_anos_y_mns</th>\n      <th>Unnamed:_18</th>\n    </tr>\n    <tr>\n      <th>month</th>\n      <th></th>\n      <th></th>\n      <th></th>\n      <th></th>\n      <th></th>\n      <th></th>\n      <th></th>\n      <th></th>\n      <th></th>\n      <th></th>\n      <th></th>\n      <th></th>\n      <th></th>\n      <th></th>\n      <th></th>\n      <th></th>\n      <th></th>\n      <th></th>\n      <th></th>\n      <th></th>\n      <th></th>\n    </tr>\n  </thead>\n  <tbody>\n    <tr>\n      <th>2005-01-01</th>\n      <td>195</td>\n      <td>-0.011282</td>\n      <td>-9.533333</td>\n      <td>2005-01-01</td>\n      <td>Ambos sexos</td>\n      <td>285.0</td>\n      <td>0.0</td>\n      <td>32.0</td>\n      <td>47.0</td>\n      <td>18.0</td>\n      <td>...</td>\n      <td>22.0</td>\n      <td>20.0</td>\n      <td>13.0</td>\n      <td>29.0</td>\n      <td>30.0</td>\n      <td>17.0</td>\n      <td>10.0</td>\n      <td>6.0</td>\n      <td>0.0</td>\n      <td>NaN</td>\n    </tr>\n    <tr>\n      <th>2005-02-01</th>\n      <td>151</td>\n      <td>-0.009934</td>\n      <td>-12.324503</td>\n      <td>2005-02-01</td>\n      <td>Ambos sexos</td>\n      <td>255.0</td>\n      <td>0.0</td>\n      <td>33.0</td>\n      <td>43.0</td>\n      <td>27.0</td>\n      <td>...</td>\n      <td>22.0</td>\n      <td>11.0</td>\n      <td>14.0</td>\n      <td>20.0</td>\n      <td>15.0</td>\n      <td>17.0</td>\n      <td>13.0</td>\n      <td>7.0</td>\n      <td>0.0</td>\n      <td>NaN</td>\n    </tr>\n    <tr>\n      <th>2005-03-01</th>\n      <td>184</td>\n      <td>-0.009076</td>\n      <td>-9.195652</td>\n      <td>2005-03-01</td>\n      <td>Ambos sexos</td>\n      <td>302.0</td>\n      <td>1.0</td>\n      <td>47.0</td>\n      <td>50.0</td>\n      <td>20.0</td>\n      <td>...</td>\n      <td>17.0</td>\n      <td>22.0</td>\n      <td>18.0</td>\n      <td>29.0</td>\n      <td>24.0</td>\n      <td>16.0</td>\n      <td>2.0</td>\n      <td>3.0</td>\n      <td>1.0</td>\n      <td>NaN</td>\n    </tr>\n    <tr>\n      <th>2005-04-01</th>\n      <td>131</td>\n      <td>-0.011145</td>\n      <td>-8.732824</td>\n      <td>2005-04-01</td>\n      <td>Ambos sexos</td>\n      <td>307.0</td>\n      <td>2.0</td>\n      <td>41.0</td>\n      <td>48.0</td>\n      <td>20.0</td>\n      <td>...</td>\n      <td>19.0</td>\n      <td>25.0</td>\n      <td>22.0</td>\n      <td>25.0</td>\n      <td>25.0</td>\n      <td>16.0</td>\n      <td>9.0</td>\n      <td>8.0</td>\n      <td>1.0</td>\n      <td>NaN</td>\n    </tr>\n    <tr>\n      <th>2005-05-01</th>\n      <td>165</td>\n      <td>-0.011333</td>\n      <td>-10.933333</td>\n      <td>2005-05-01</td>\n      <td>Ambos sexos</td>\n      <td>304.0</td>\n      <td>2.0</td>\n      <td>35.0</td>\n      <td>58.0</td>\n      <td>27.0</td>\n      <td>...</td>\n      <td>23.0</td>\n      <td>15.0</td>\n      <td>20.0</td>\n      <td>23.0</td>\n      <td>25.0</td>\n      <td>19.0</td>\n      <td>12.0</td>\n      <td>3.0</td>\n      <td>0.0</td>\n      <td>NaN</td>\n    </tr>\n    <tr>\n      <th>...</th>\n      <td>...</td>\n      <td>...</td>\n      <td>...</td>\n      <td>...</td>\n      <td>...</td>\n      <td>...</td>\n      <td>...</td>\n      <td>...</td>\n      <td>...</td>\n      <td>...</td>\n      <td>...</td>\n      <td>...</td>\n      <td>...</td>\n      <td>...</td>\n      <td>...</td>\n      <td>...</td>\n      <td>...</td>\n      <td>...</td>\n      <td>...</td>\n      <td>...</td>\n      <td>...</td>\n    </tr>\n    <tr>\n      <th>2017-08-01</th>\n      <td>143</td>\n      <td>-0.009301</td>\n      <td>-10.811189</td>\n      <td>2017-08-01</td>\n      <td>Ambos sexos</td>\n      <td>337.0</td>\n      <td>1.0</td>\n      <td>24.0</td>\n      <td>40.0</td>\n      <td>32.0</td>\n      <td>...</td>\n      <td>35.0</td>\n      <td>24.0</td>\n      <td>18.0</td>\n      <td>23.0</td>\n      <td>23.0</td>\n      <td>20.0</td>\n      <td>24.0</td>\n      <td>7.0</td>\n      <td>1.0</td>\n      <td>NaN</td>\n    </tr>\n    <tr>\n      <th>2017-09-01</th>\n      <td>171</td>\n      <td>-0.016491</td>\n      <td>-18.619883</td>\n      <td>2017-09-01</td>\n      <td>Ambos sexos</td>\n      <td>307.0</td>\n      <td>1.0</td>\n      <td>26.0</td>\n      <td>37.0</td>\n      <td>27.0</td>\n      <td>...</td>\n      <td>35.0</td>\n      <td>15.0</td>\n      <td>18.0</td>\n      <td>16.0</td>\n      <td>13.0</td>\n      <td>21.0</td>\n      <td>14.0</td>\n      <td>6.0</td>\n      <td>1.0</td>\n      <td>NaN</td>\n    </tr>\n    <tr>\n      <th>2017-10-01</th>\n      <td>189</td>\n      <td>-0.013704</td>\n      <td>-17.216931</td>\n      <td>2017-10-01</td>\n      <td>Ambos sexos</td>\n      <td>346.0</td>\n      <td>1.0</td>\n      <td>27.0</td>\n      <td>45.0</td>\n      <td>29.0</td>\n      <td>...</td>\n      <td>39.0</td>\n      <td>17.0</td>\n      <td>28.0</td>\n      <td>29.0</td>\n      <td>19.0</td>\n      <td>21.0</td>\n      <td>19.0</td>\n      <td>4.0</td>\n      <td>1.0</td>\n      <td>NaN</td>\n    </tr>\n    <tr>\n      <th>2017-11-01</th>\n      <td>186</td>\n      <td>-0.021989</td>\n      <td>-30.381720</td>\n      <td>2017-11-01</td>\n      <td>Ambos sexos</td>\n      <td>267.0</td>\n      <td>0.0</td>\n      <td>15.0</td>\n      <td>44.0</td>\n      <td>26.0</td>\n      <td>...</td>\n      <td>26.0</td>\n      <td>18.0</td>\n      <td>19.0</td>\n      <td>21.0</td>\n      <td>11.0</td>\n      <td>17.0</td>\n      <td>11.0</td>\n      <td>3.0</td>\n      <td>1.0</td>\n      <td>NaN</td>\n    </tr>\n    <tr>\n      <th>2017-12-01</th>\n      <td>151</td>\n      <td>-0.013046</td>\n      <td>-16.947020</td>\n      <td>2017-12-01</td>\n      <td>Ambos sexos</td>\n      <td>241.0</td>\n      <td>1.0</td>\n      <td>24.0</td>\n      <td>31.0</td>\n      <td>21.0</td>\n      <td>...</td>\n      <td>27.0</td>\n      <td>15.0</td>\n      <td>16.0</td>\n      <td>15.0</td>\n      <td>15.0</td>\n      <td>8.0</td>\n      <td>9.0</td>\n      <td>5.0</td>\n      <td>1.0</td>\n      <td>NaN</td>\n    </tr>\n  </tbody>\n</table>\n<p>156 rows × 22 columns</p>\n</div>"
     },
     "execution_count": 6,
     "metadata": {},
     "output_type": "execute_result"
    }
   ],
   "source": [
    "df_asoc = pd.read_csv(path, sep=\";\")\n",
    "df_asoc[\"month\"]= pd.to_datetime(df_asoc[\"month\"])\n",
    "df_asoc=df_asoc.set_index(\"month\")\n",
    "df_asoc\n"
   ],
   "metadata": {
    "collapsed": false,
    "pycharm": {
     "name": "#%%\n"
    }
   }
  },
  {
   "cell_type": "code",
   "execution_count": 9,
   "outputs": [
    {
     "name": "stdout",
     "output_type": "stream",
     "text": [
      "\n",
      "Granger Causality\n",
      "number of lags (no zero) 1\n",
      "ssr based F test:         F=0.5914  , p=0.4431  , df_denom=152, df_num=1\n",
      "ssr based chi2 test:   chi2=0.6031  , p=0.4374  , df=1\n",
      "likelihood ratio test: chi2=0.6020  , p=0.4378  , df=1\n",
      "parameter F test:         F=0.5914  , p=0.4431  , df_denom=152, df_num=1\n",
      "\n",
      "Granger Causality\n",
      "number of lags (no zero) 2\n",
      "ssr based F test:         F=1.9009  , p=0.1530  , df_denom=149, df_num=2\n",
      "ssr based chi2 test:   chi2=3.9293  , p=0.1402  , df=2\n",
      "likelihood ratio test: chi2=3.8800  , p=0.1437  , df=2\n",
      "parameter F test:         F=1.9009  , p=0.1530  , df_denom=149, df_num=2\n",
      "\n",
      "Granger Causality\n",
      "number of lags (no zero) 3\n",
      "ssr based F test:         F=1.3076  , p=0.2742  , df_denom=146, df_num=3\n",
      "ssr based chi2 test:   chi2=4.1108  , p=0.2497  , df=3\n",
      "likelihood ratio test: chi2=4.0566  , p=0.2554  , df=3\n",
      "parameter F test:         F=1.3076  , p=0.2742  , df_denom=146, df_num=3\n",
      "\n",
      "Granger Causality\n",
      "number of lags (no zero) 4\n",
      "ssr based F test:         F=1.3560  , p=0.2522  , df_denom=143, df_num=4\n",
      "ssr based chi2 test:   chi2=5.7656  , p=0.2174  , df=4\n",
      "likelihood ratio test: chi2=5.6589  , p=0.2261  , df=4\n",
      "parameter F test:         F=1.3560  , p=0.2522  , df_denom=143, df_num=4\n",
      "\n",
      "Granger Causality\n",
      "number of lags (no zero) 5\n",
      "ssr based F test:         F=1.6731  , p=0.1450  , df_denom=140, df_num=5\n",
      "ssr based chi2 test:   chi2=9.0228  , p=0.1082  , df=5\n",
      "likelihood ratio test: chi2=8.7635  , p=0.1189  , df=5\n",
      "parameter F test:         F=1.6731  , p=0.1450  , df_denom=140, df_num=5\n",
      "\n",
      "Granger Causality\n",
      "number of lags (no zero) 6\n",
      "ssr based F test:         F=1.4819  , p=0.1888  , df_denom=137, df_num=6\n",
      "ssr based chi2 test:   chi2=9.7348  , p=0.1363  , df=6\n",
      "likelihood ratio test: chi2=9.4320  , p=0.1507  , df=6\n",
      "parameter F test:         F=1.4819  , p=0.1888  , df_denom=137, df_num=6\n",
      "\n",
      "Granger Causality\n",
      "number of lags (no zero) 7\n",
      "ssr based F test:         F=1.4033  , p=0.2090  , df_denom=134, df_num=7\n",
      "ssr based chi2 test:   chi2=10.9225 , p=0.1420  , df=7\n",
      "likelihood ratio test: chi2=10.5407 , p=0.1599  , df=7\n",
      "parameter F test:         F=1.4033  , p=0.2090  , df_denom=134, df_num=7\n",
      "\n",
      "Granger Causality\n",
      "number of lags (no zero) 8\n",
      "ssr based F test:         F=1.1871  , p=0.3116  , df_denom=131, df_num=8\n",
      "ssr based chi2 test:   chi2=10.7292 , p=0.2175  , df=8\n",
      "likelihood ratio test: chi2=10.3581 , p=0.2408  , df=8\n",
      "parameter F test:         F=1.1871  , p=0.3116  , df_denom=131, df_num=8\n",
      "{1: ({'ssr_ftest': (0.5914477777030756, 0.44305317744249895, 152.0, 1), 'ssr_chi2test': (0.6031210891051099, 0.4373896609370256, 1), 'lrtest': (0.6019507207581682, 0.4378347042053484, 1), 'params_ftest': (0.5914477777030432, 0.44305317744251194, 152.0, 1.0)}, [<statsmodels.regression.linear_model.RegressionResultsWrapper object at 0x1352f4910>, <statsmodels.regression.linear_model.RegressionResultsWrapper object at 0x135eedf50>, array([[0., 1., 0.]])]), 2: ({'ssr_ftest': (1.9008521992070369, 0.15304748829035822, 149.0, 2), 'ssr_chi2test': (3.929278371515217, 0.14020646598019018, 2), 'lrtest': (3.8799876753535045, 0.14370483533062198, 2), 'params_ftest': (1.9008521992117728, 0.15304748828965156, 149.0, 2.0)}, [<statsmodels.regression.linear_model.RegressionResultsWrapper object at 0x135eed650>, <statsmodels.regression.linear_model.RegressionResultsWrapper object at 0x135eeded0>, array([[0., 0., 1., 0., 0.],\n",
      "       [0., 0., 0., 1., 0.]])]), 3: ({'ssr_ftest': (1.3075865858066567, 0.27424568847446296, 146.0, 3), 'ssr_chi2test': (4.110837280035996, 0.24974175550672154, 3), 'lrtest': (4.056581536366593, 0.2554188087484563, 3), 'params_ftest': (1.3075865858071054, 0.2742456884743164, 146.0, 3.0)}, [<statsmodels.regression.linear_model.RegressionResultsWrapper object at 0x135eed750>, <statsmodels.regression.linear_model.RegressionResultsWrapper object at 0x135eed890>, array([[0., 0., 0., 1., 0., 0., 0.],\n",
      "       [0., 0., 0., 0., 1., 0., 0.],\n",
      "       [0., 0., 0., 0., 0., 1., 0.]])]), 4: ({'ssr_ftest': (1.35604449490654, 0.252237144071261, 143.0, 4), 'ssr_chi2test': (5.765559810511722, 0.21735386534569523, 4), 'lrtest': (5.658900962234384, 0.22611101901789382, 4), 'params_ftest': (1.356044494904398, 0.252237144072024, 143.0, 4.0)}, [<statsmodels.regression.linear_model.RegressionResultsWrapper object at 0x134c2a510>, <statsmodels.regression.linear_model.RegressionResultsWrapper object at 0x135e83050>, array([[0., 0., 0., 0., 1., 0., 0., 0., 0.],\n",
      "       [0., 0., 0., 0., 0., 1., 0., 0., 0.],\n",
      "       [0., 0., 0., 0., 0., 0., 1., 0., 0.],\n",
      "       [0., 0., 0., 0., 0., 0., 0., 1., 0.]])]), 5: ({'ssr_ftest': (1.67310706183764, 0.144963133934343, 140.0, 5), 'ssr_chi2test': (9.022827369195845, 0.10815710775492697, 5), 'lrtest': (8.763532534274418, 0.11887598445042646, 5), 'params_ftest': (1.673107061842117, 0.14496313393324292, 140.0, 5.0)}, [<statsmodels.regression.linear_model.RegressionResultsWrapper object at 0x135e834d0>, <statsmodels.regression.linear_model.RegressionResultsWrapper object at 0x135e83690>, array([[0., 0., 0., 0., 0., 1., 0., 0., 0., 0., 0.],\n",
      "       [0., 0., 0., 0., 0., 0., 1., 0., 0., 0., 0.],\n",
      "       [0., 0., 0., 0., 0., 0., 0., 1., 0., 0., 0.],\n",
      "       [0., 0., 0., 0., 0., 0., 0., 0., 1., 0., 0.],\n",
      "       [0., 0., 0., 0., 0., 0., 0., 0., 0., 1., 0.]])]), 6: ({'ssr_ftest': (1.4818568373843242, 0.18879542118505804, 137.0, 6), 'ssr_chi2test': (9.734825939021107, 0.13627245717362435, 6), 'lrtest': (9.431971252904532, 0.15070189880123427, 6), 'params_ftest': (1.4818568373850611, 0.1887954211848027, 137.0, 6.0)}, [<statsmodels.regression.linear_model.RegressionResultsWrapper object at 0x135efec50>, <statsmodels.regression.linear_model.RegressionResultsWrapper object at 0x135efe650>, array([[0., 0., 0., 0., 0., 0., 1., 0., 0., 0., 0., 0., 0.],\n",
      "       [0., 0., 0., 0., 0., 0., 0., 1., 0., 0., 0., 0., 0.],\n",
      "       [0., 0., 0., 0., 0., 0., 0., 0., 1., 0., 0., 0., 0.],\n",
      "       [0., 0., 0., 0., 0., 0., 0., 0., 0., 1., 0., 0., 0.],\n",
      "       [0., 0., 0., 0., 0., 0., 0., 0., 0., 0., 1., 0., 0.],\n",
      "       [0., 0., 0., 0., 0., 0., 0., 0., 0., 0., 0., 1., 0.]])]), 7: ({'ssr_ftest': (1.4032785882301924, 0.20901644679552825, 134.0, 7), 'ssr_chi2test': (10.922534086000677, 0.1420339227260271, 7), 'lrtest': (10.540741282161662, 0.15994397364805885, 7), 'params_ftest': (1.403278588231003, 0.20901644679519682, 134.0, 7.0)}, [<statsmodels.regression.linear_model.RegressionResultsWrapper object at 0x1352ffcd0>, <statsmodels.regression.linear_model.RegressionResultsWrapper object at 0x1352ffb90>, array([[0., 0., 0., 0., 0., 0., 0., 1., 0., 0., 0., 0., 0., 0., 0.],\n",
      "       [0., 0., 0., 0., 0., 0., 0., 0., 1., 0., 0., 0., 0., 0., 0.],\n",
      "       [0., 0., 0., 0., 0., 0., 0., 0., 0., 1., 0., 0., 0., 0., 0.],\n",
      "       [0., 0., 0., 0., 0., 0., 0., 0., 0., 0., 1., 0., 0., 0., 0.],\n",
      "       [0., 0., 0., 0., 0., 0., 0., 0., 0., 0., 0., 1., 0., 0., 0.],\n",
      "       [0., 0., 0., 0., 0., 0., 0., 0., 0., 0., 0., 0., 1., 0., 0.],\n",
      "       [0., 0., 0., 0., 0., 0., 0., 0., 0., 0., 0., 0., 0., 1., 0.]])]), 8: ({'ssr_ftest': (1.1870972719959036, 0.3115953188136261, 131.0, 8), 'ssr_chi2test': (10.729184504146184, 0.21752111622006962, 8), 'lrtest': (10.358110658317628, 0.24078521176527612, 8), 'params_ftest': (1.1870972719971964, 0.3115953188128464, 131.0, 8.0)}, [<statsmodels.regression.linear_model.RegressionResultsWrapper object at 0x135195d90>, <statsmodels.regression.linear_model.RegressionResultsWrapper object at 0x135f02450>, array([[0., 0., 0., 0., 0., 0., 0., 0., 1., 0., 0., 0., 0., 0., 0., 0.,\n",
      "        0.],\n",
      "       [0., 0., 0., 0., 0., 0., 0., 0., 0., 1., 0., 0., 0., 0., 0., 0.,\n",
      "        0.],\n",
      "       [0., 0., 0., 0., 0., 0., 0., 0., 0., 0., 1., 0., 0., 0., 0., 0.,\n",
      "        0.],\n",
      "       [0., 0., 0., 0., 0., 0., 0., 0., 0., 0., 0., 1., 0., 0., 0., 0.,\n",
      "        0.],\n",
      "       [0., 0., 0., 0., 0., 0., 0., 0., 0., 0., 0., 0., 1., 0., 0., 0.,\n",
      "        0.],\n",
      "       [0., 0., 0., 0., 0., 0., 0., 0., 0., 0., 0., 0., 0., 1., 0., 0.,\n",
      "        0.],\n",
      "       [0., 0., 0., 0., 0., 0., 0., 0., 0., 0., 0., 0., 0., 0., 1., 0.,\n",
      "        0.],\n",
      "       [0., 0., 0., 0., 0., 0., 0., 0., 0., 0., 0., 0., 0., 0., 0., 1.,\n",
      "        0.]])])}\n"
     ]
    }
   ],
   "source": [
    "granger_test = sm.tsa.stattools.grangercausalitytests(df_asoc[['sentiment_analysis_score','suicidios']], maxlag=8, verbose=True)\n",
    "print(granger_test)"
   ],
   "metadata": {
    "collapsed": false,
    "pycharm": {
     "name": "#%%\n"
    }
   }
  },
  {
   "cell_type": "code",
   "execution_count": null,
   "outputs": [],
   "source": [],
   "metadata": {
    "collapsed": false,
    "pycharm": {
     "name": "#%%\n"
    }
   }
  },
  {
   "cell_type": "code",
   "execution_count": 10,
   "outputs": [
    {
     "name": "stdout",
     "output_type": "stream",
     "text": [
      "Test Statistic         -9.855145e+00\n",
      "p-value                 4.379617e-17\n",
      "# Lags                  0.000000e+00\n",
      "# Observations          1.550000e+02\n",
      "Critical Value (1%)    -3.473259e+00\n",
      "Critical Value (5%)    -2.880374e+00\n",
      "Critical Value (10%)   -2.576812e+00\n",
      "dtype: float64\n",
      " Series is Stationary\n",
      "Test Statistic           -1.096774\n",
      "p-value                   0.716357\n",
      "# Lags                   11.000000\n",
      "# Observations          144.000000\n",
      "Critical Value (1%)      -3.476598\n",
      "Critical Value (5%)      -2.881829\n",
      "Critical Value (10%)     -2.577589\n",
      "dtype: float64\n",
      " Series is Non-Stationary\n"
     ]
    }
   ],
   "source": [
    "from statsmodels.tsa.stattools import adfuller\n",
    "\n",
    "def adf_test(ts, signif=0.05):\n",
    "    dftest = adfuller(ts, autolag='AIC')\n",
    "    adf = pd.Series(dftest[0:4], index=['Test Statistic','p-value','# Lags','# Observations'])\n",
    "    for key,value in dftest[4].items():\n",
    "       adf['Critical Value (%s)'%key] = value\n",
    "    print (adf)\n",
    "\n",
    "    p = adf['p-value']\n",
    "    if p <= signif:\n",
    "        print(f\" Series is Stationary\")\n",
    "    else:\n",
    "        print(f\" Series is Non-Stationary\")\n",
    "\n",
    "#apply adf test on the series\n",
    "adf_test(df_asoc[\"sentiment_analysis_score\"])\n",
    "adf_test(df_asoc[\"suicidios\"])\n"
   ],
   "metadata": {
    "collapsed": false,
    "pycharm": {
     "name": "#%%\n"
    }
   }
  }
 ],
 "metadata": {
  "kernelspec": {
   "display_name": "Python 3",
   "language": "python",
   "name": "python3"
  },
  "language_info": {
   "codemirror_mode": {
    "name": "ipython",
    "version": 2
   },
   "file_extension": ".py",
   "mimetype": "text/x-python",
   "name": "python",
   "nbconvert_exporter": "python",
   "pygments_lexer": "ipython2",
   "version": "2.7.6"
  }
 },
 "nbformat": 4,
 "nbformat_minor": 0
}